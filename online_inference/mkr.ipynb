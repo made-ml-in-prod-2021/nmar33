{
 "metadata": {
  "language_info": {
   "codemirror_mode": {
    "name": "ipython",
    "version": 3
   },
   "file_extension": ".py",
   "mimetype": "text/x-python",
   "name": "python",
   "nbconvert_exporter": "python",
   "pygments_lexer": "ipython3",
   "version": "3.8.1"
  },
  "orig_nbformat": 2,
  "kernelspec": {
   "name": "python381jvsc74a57bd0aa62dd08506d3998c33607a24c24cf3230b3f540d3b3276dd7bc86110ffde974",
   "display_name": "Python 3.8.1 64-bit ('.venv': venv)"
  }
 },
 "nbformat": 4,
 "nbformat_minor": 2,
 "cells": [
  {
   "cell_type": "code",
   "execution_count": 2,
   "metadata": {},
   "outputs": [],
   "source": [
    "import os\n",
    "import json\n",
    "import pandas as pd\n",
    "import requests\n",
    "\n",
    "from src.enities import read_configs\n",
    "\n",
    "config_path = os.getenv('CONFIG_PATH', default='./configs/config_lr.yaml')\n",
    "\n",
    "def main():\n",
    "    cnfg = read_configs(config_path)\n",
    "    data = pd.read_csv(cnfg.paths.raw_dataset_path)\n",
    "    data = data.drop(cnfg.train_config.column_y, axis=1)\n",
    "    data = data.drop('Residence_type', axis=1)\n",
    "    data = data.dropna()"
   ]
  },
  {
   "cell_type": "code",
   "execution_count": 13,
   "metadata": {},
   "outputs": [],
   "source": [
    "cnfg = read_configs(config_path)\n",
    "data = pd.read_csv(cnfg.paths.raw_dataset_path)\n",
    "data = data.drop(cnfg.train_config.column_y, axis=1)\n",
    "data = data.drop('Residence_type', axis=1)\n",
    "data = data.dropna()"
   ]
  },
  {
   "cell_type": "code",
   "execution_count": 14,
   "metadata": {},
   "outputs": [
    {
     "output_type": "execute_result",
     "data": {
      "text/plain": [
       "         id  gender   age  hypertension  heart_disease ever_married  \\\n",
       "0      9046    Male  67.0             0              1          Yes   \n",
       "2     31112    Male  80.0             0              1          Yes   \n",
       "3     60182  Female  49.0             0              0          Yes   \n",
       "4      1665  Female  79.0             1              0          Yes   \n",
       "5     56669    Male  81.0             0              0          Yes   \n",
       "...     ...     ...   ...           ...            ...          ...   \n",
       "5104  14180  Female  13.0             0              0           No   \n",
       "5106  44873  Female  81.0             0              0          Yes   \n",
       "5107  19723  Female  35.0             0              0          Yes   \n",
       "5108  37544    Male  51.0             0              0          Yes   \n",
       "5109  44679  Female  44.0             0              0          Yes   \n",
       "\n",
       "          work_type  avg_glucose_level   bmi   smoking_status  \n",
       "0           Private             228.69  36.6  formerly smoked  \n",
       "2           Private             105.92  32.5     never smoked  \n",
       "3           Private             171.23  34.4           smokes  \n",
       "4     Self-employed             174.12  24.0     never smoked  \n",
       "5           Private             186.21  29.0  formerly smoked  \n",
       "...             ...                ...   ...              ...  \n",
       "5104       children             103.08  18.6          Unknown  \n",
       "5106  Self-employed             125.20  40.0     never smoked  \n",
       "5107  Self-employed              82.99  30.6     never smoked  \n",
       "5108        Private             166.29  25.6  formerly smoked  \n",
       "5109       Govt_job              85.28  26.2          Unknown  \n",
       "\n",
       "[4909 rows x 10 columns]"
      ],
      "text/html": "<div>\n<style scoped>\n    .dataframe tbody tr th:only-of-type {\n        vertical-align: middle;\n    }\n\n    .dataframe tbody tr th {\n        vertical-align: top;\n    }\n\n    .dataframe thead th {\n        text-align: right;\n    }\n</style>\n<table border=\"1\" class=\"dataframe\">\n  <thead>\n    <tr style=\"text-align: right;\">\n      <th></th>\n      <th>id</th>\n      <th>gender</th>\n      <th>age</th>\n      <th>hypertension</th>\n      <th>heart_disease</th>\n      <th>ever_married</th>\n      <th>work_type</th>\n      <th>avg_glucose_level</th>\n      <th>bmi</th>\n      <th>smoking_status</th>\n    </tr>\n  </thead>\n  <tbody>\n    <tr>\n      <th>0</th>\n      <td>9046</td>\n      <td>Male</td>\n      <td>67.0</td>\n      <td>0</td>\n      <td>1</td>\n      <td>Yes</td>\n      <td>Private</td>\n      <td>228.69</td>\n      <td>36.6</td>\n      <td>formerly smoked</td>\n    </tr>\n    <tr>\n      <th>2</th>\n      <td>31112</td>\n      <td>Male</td>\n      <td>80.0</td>\n      <td>0</td>\n      <td>1</td>\n      <td>Yes</td>\n      <td>Private</td>\n      <td>105.92</td>\n      <td>32.5</td>\n      <td>never smoked</td>\n    </tr>\n    <tr>\n      <th>3</th>\n      <td>60182</td>\n      <td>Female</td>\n      <td>49.0</td>\n      <td>0</td>\n      <td>0</td>\n      <td>Yes</td>\n      <td>Private</td>\n      <td>171.23</td>\n      <td>34.4</td>\n      <td>smokes</td>\n    </tr>\n    <tr>\n      <th>4</th>\n      <td>1665</td>\n      <td>Female</td>\n      <td>79.0</td>\n      <td>1</td>\n      <td>0</td>\n      <td>Yes</td>\n      <td>Self-employed</td>\n      <td>174.12</td>\n      <td>24.0</td>\n      <td>never smoked</td>\n    </tr>\n    <tr>\n      <th>5</th>\n      <td>56669</td>\n      <td>Male</td>\n      <td>81.0</td>\n      <td>0</td>\n      <td>0</td>\n      <td>Yes</td>\n      <td>Private</td>\n      <td>186.21</td>\n      <td>29.0</td>\n      <td>formerly smoked</td>\n    </tr>\n    <tr>\n      <th>...</th>\n      <td>...</td>\n      <td>...</td>\n      <td>...</td>\n      <td>...</td>\n      <td>...</td>\n      <td>...</td>\n      <td>...</td>\n      <td>...</td>\n      <td>...</td>\n      <td>...</td>\n    </tr>\n    <tr>\n      <th>5104</th>\n      <td>14180</td>\n      <td>Female</td>\n      <td>13.0</td>\n      <td>0</td>\n      <td>0</td>\n      <td>No</td>\n      <td>children</td>\n      <td>103.08</td>\n      <td>18.6</td>\n      <td>Unknown</td>\n    </tr>\n    <tr>\n      <th>5106</th>\n      <td>44873</td>\n      <td>Female</td>\n      <td>81.0</td>\n      <td>0</td>\n      <td>0</td>\n      <td>Yes</td>\n      <td>Self-employed</td>\n      <td>125.20</td>\n      <td>40.0</td>\n      <td>never smoked</td>\n    </tr>\n    <tr>\n      <th>5107</th>\n      <td>19723</td>\n      <td>Female</td>\n      <td>35.0</td>\n      <td>0</td>\n      <td>0</td>\n      <td>Yes</td>\n      <td>Self-employed</td>\n      <td>82.99</td>\n      <td>30.6</td>\n      <td>never smoked</td>\n    </tr>\n    <tr>\n      <th>5108</th>\n      <td>37544</td>\n      <td>Male</td>\n      <td>51.0</td>\n      <td>0</td>\n      <td>0</td>\n      <td>Yes</td>\n      <td>Private</td>\n      <td>166.29</td>\n      <td>25.6</td>\n      <td>formerly smoked</td>\n    </tr>\n    <tr>\n      <th>5109</th>\n      <td>44679</td>\n      <td>Female</td>\n      <td>44.0</td>\n      <td>0</td>\n      <td>0</td>\n      <td>Yes</td>\n      <td>Govt_job</td>\n      <td>85.28</td>\n      <td>26.2</td>\n      <td>Unknown</td>\n    </tr>\n  </tbody>\n</table>\n<p>4909 rows × 10 columns</p>\n</div>"
     },
     "metadata": {},
     "execution_count": 14
    }
   ],
   "source": [
    "data"
   ]
  },
  {
   "cell_type": "code",
   "execution_count": 15,
   "metadata": {},
   "outputs": [],
   "source": [
    "data = data.to_dict(\"records\")"
   ]
  },
  {
   "cell_type": "code",
   "execution_count": 18,
   "metadata": {},
   "outputs": [
    {
     "output_type": "execute_result",
     "data": {
      "text/plain": [
       "{'id': 9046,\n",
       " 'gender': 'Male',\n",
       " 'age': 67.0,\n",
       " 'hypertension': 0,\n",
       " 'heart_disease': 1,\n",
       " 'ever_married': 'Yes',\n",
       " 'work_type': 'Private',\n",
       " 'avg_glucose_level': 228.69,\n",
       " 'bmi': 36.6,\n",
       " 'smoking_status': 'formerly smoked'}"
      ]
     },
     "metadata": {},
     "execution_count": 18
    }
   ],
   "source": [
    "data[0]"
   ]
  },
  {
   "cell_type": "code",
   "execution_count": null,
   "metadata": {},
   "outputs": [],
   "source": []
  }
 ]
}